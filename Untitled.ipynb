{
 "cells": [
  {
   "cell_type": "code",
   "execution_count": 15,
   "metadata": {
    "ExecuteTime": {
     "end_time": "2018-08-24T00:50:56.208683Z",
     "start_time": "2018-08-24T00:50:55.124080Z"
    }
   },
   "outputs": [
    {
     "name": "stderr",
     "output_type": "stream",
     "text": [
      "/home/guess/anaconda3/lib/python3.6/site-packages/pysal/__init__.py:65: VisibleDeprecationWarning: PySAL's API will be changed on 2018-12-31. The last release made with this API is version 1.14.4. A preview of the next API version is provided in the `pysal` 2.0 prelease candidate. The API changes and a guide on how to change imports is provided at https://migrating.pysal.org\n",
      "  ), VisibleDeprecationWarning)\n"
     ]
    }
   ],
   "source": [
    "import pysal"
   ]
  },
  {
   "cell_type": "code",
   "execution_count": 16,
   "metadata": {
    "ExecuteTime": {
     "end_time": "2018-08-24T00:51:22.620397Z",
     "start_time": "2018-08-24T00:51:22.599543Z"
    }
   },
   "outputs": [
    {
     "name": "stdout",
     "output_type": "stream",
     "text": [
      "Help on package pysal:\n",
      "\n",
      "NAME\n",
      "    pysal\n",
      "\n",
      "DESCRIPTION\n",
      "    Python Spatial Analysis Library\n",
      "    ===============================\n",
      "    \n",
      "    \n",
      "    Documentation\n",
      "    -------------\n",
      "    PySAL documentation is available in two forms: python docstrings and an html         webpage at http://pysal.org/\n",
      "    \n",
      "    Available sub-packages\n",
      "    ----------------------\n",
      "    \n",
      "    cg\n",
      "        Basic data structures and tools for Computational Geometry\n",
      "    core\n",
      "        Basic functions used by several sub-packages\n",
      "    esda\n",
      "        Tools for Exploratory Spatial Data Analysis\n",
      "    examples\n",
      "        Example data sets used by several sub-packages for examples and testing\n",
      "    network\n",
      "        Spatial analysis on networks\n",
      "    region\n",
      "        Regionalization algorithms and spatially constrained clustering\n",
      "    spatial_dynamics\n",
      "        Space-time exploratory methods and clustering\n",
      "    spreg\n",
      "        Spatial regression and econometrics\n",
      "    weights\n",
      "        Tools for creating and manipulating weights\n",
      "    contrib\n",
      "        Package for interfacing with third-party libraries\n",
      "    \n",
      "    Utilities\n",
      "    ---------\n",
      "    `fileio`_\n",
      "        Tool for file input and output, supports many well known file formats\n",
      "\n",
      "PACKAGE CONTENTS\n",
      "    cg (package)\n",
      "    common\n",
      "    config\n",
      "    contrib (package)\n",
      "    core (package)\n",
      "    esda (package)\n",
      "    examples (package)\n",
      "    inequality (package)\n",
      "    network (package)\n",
      "    region (package)\n",
      "    spatial_dynamics (package)\n",
      "    spreg (package)\n",
      "    test_NameSpace\n",
      "    version\n",
      "    weights (package)\n",
      "\n",
      "SUBMODULES\n",
      "    IOHandlers\n",
      "    directional\n",
      "    ergodic\n",
      "    pdio\n",
      "\n",
      "FUNCTIONS\n",
      "    warn(...)\n",
      "        Issue a warning, or maybe ignore it or raise an exception.\n",
      "\n",
      "DATA\n",
      "    MISSINGVALUE = None\n",
      "    __warningregistry__ = {'version': 109, (\"PySAL's API will be changed o...\n",
      "    new_api_date = datetime.date(2018, 12, 31)\n",
      "\n",
      "VERSION\n",
      "    1.14.4\n",
      "\n",
      "FILE\n",
      "    /home/guess/anaconda3/lib/python3.6/site-packages/pysal/__init__.py\n",
      "\n",
      "\n"
     ]
    }
   ],
   "source": [
    "help(pysal)"
   ]
  },
  {
   "cell_type": "code",
   "execution_count": 17,
   "metadata": {
    "ExecuteTime": {
     "end_time": "2018-08-24T00:54:04.021197Z",
     "start_time": "2018-08-24T00:54:04.003710Z"
    }
   },
   "outputs": [
    {
     "data": {
      "text/plain": [
       "'/home/guess/anaconda3/lib/python3.6/site-packages/pysal/examples/columbus/columbus.shp'"
      ]
     },
     "execution_count": 17,
     "metadata": {},
     "output_type": "execute_result"
    }
   ],
   "source": [
    "pysal.examples.get_path('columbus.shp')"
   ]
  },
  {
   "cell_type": "code",
   "execution_count": 21,
   "metadata": {
    "ExecuteTime": {
     "end_time": "2018-08-24T00:54:30.463869Z",
     "start_time": "2018-08-24T00:54:30.444855Z"
    }
   },
   "outputs": [
    {
     "name": "stdout",
     "output_type": "stream",
     "text": [
      "/home/guess/anaconda3/lib/python3.6/site-packages/pysal/examples/columbus/columbus.shp\n",
      "<class 'str'>\n"
     ]
    }
   ],
   "source": [
    "path = pysal.examples.get_path('columbus.shp')\n",
    "print(path); print(type(path))"
   ]
  },
  {
   "cell_type": "code",
   "execution_count": 22,
   "metadata": {
    "ExecuteTime": {
     "end_time": "2018-08-24T00:54:37.281189Z",
     "start_time": "2018-08-24T00:54:37.249529Z"
    }
   },
   "outputs": [],
   "source": [
    "shp = pysal.open(path)"
   ]
  },
  {
   "cell_type": "code",
   "execution_count": 23,
   "metadata": {
    "ExecuteTime": {
     "end_time": "2018-08-24T00:54:42.116372Z",
     "start_time": "2018-08-24T00:54:42.098361Z"
    }
   },
   "outputs": [
    {
     "data": {
      "text/plain": [
       "<pysal.core.IOHandlers.pyShpIO.PurePyShpWrapper at 0x7fcaa332be48>"
      ]
     },
     "execution_count": 23,
     "metadata": {},
     "output_type": "execute_result"
    }
   ],
   "source": [
    "shp"
   ]
  },
  {
   "cell_type": "code",
   "execution_count": 24,
   "metadata": {
    "ExecuteTime": {
     "end_time": "2018-08-24T00:54:47.746483Z",
     "start_time": "2018-08-24T00:54:47.728982Z"
    }
   },
   "outputs": [
    {
     "data": {
      "text/plain": [
       "{'File Code': 9994,\n",
       " 'Unused0': 0,\n",
       " 'Unused1': 0,\n",
       " 'Unused2': 0,\n",
       " 'Unused3': 0,\n",
       " 'Unused4': 0,\n",
       " 'File Length': 10990,\n",
       " 'Version': 1000,\n",
       " 'Shape Type': 5,\n",
       " 'BBOX Xmin': 5.87490701675415,\n",
       " 'BBOX Ymin': 10.788629531860352,\n",
       " 'BBOX Xmax': 11.287420272827148,\n",
       " 'BBOX Ymax': 14.742449760437012,\n",
       " 'BBOX Zmin': 0.0,\n",
       " 'BBOX Zmax': 0.0,\n",
       " 'BBOX Mmin': 0.0,\n",
       " 'BBOX Mmax': 0.0}"
      ]
     },
     "execution_count": 24,
     "metadata": {},
     "output_type": "execute_result"
    }
   ],
   "source": [
    "shp.header"
   ]
  },
  {
   "cell_type": "code",
   "execution_count": 25,
   "metadata": {
    "ExecuteTime": {
     "end_time": "2018-08-24T00:54:57.247542Z",
     "start_time": "2018-08-24T00:54:57.228264Z"
    }
   },
   "outputs": [
    {
     "data": {
      "text/plain": [
       "[5.87490701675415, 10.788629531860352, 11.287420272827148, 14.742449760437012]"
      ]
     },
     "execution_count": 25,
     "metadata": {},
     "output_type": "execute_result"
    }
   ],
   "source": [
    "shp.bbox"
   ]
  },
  {
   "cell_type": "code",
   "execution_count": null,
   "metadata": {},
   "outputs": [],
   "source": []
  }
 ],
 "metadata": {
  "kernelspec": {
   "display_name": "Python 3",
   "language": "python",
   "name": "python3"
  },
  "language_info": {
   "codemirror_mode": {
    "name": "ipython",
    "version": 3
   },
   "file_extension": ".py",
   "mimetype": "text/x-python",
   "name": "python",
   "nbconvert_exporter": "python",
   "pygments_lexer": "ipython3",
   "version": "3.6.6"
  }
 },
 "nbformat": 4,
 "nbformat_minor": 2
}
